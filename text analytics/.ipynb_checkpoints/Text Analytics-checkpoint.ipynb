{
 "cells": [
  {
   "cell_type": "markdown",
   "metadata": {},
   "source": [
    "# Text Analysis\n",
    "---\n",
    "\n",
    "## Introduction\n",
    "\n",
    "Text Analysis is used for summarizing or getting useful information out of a large amount of unstructured text stored in documents. This opens up the opportunity of using text data alongside more conventional data sources (e.g, surveys and administrative data). The goal of text analysis is to take a large corpus of complex and unstructured text data and extract important and meaningful messages in a comprehensible meaningful way. \n",
    "\n",
    "\n",
    "Text Analysis can help with the following tasks:\n",
    "\n",
    "* **Informationan retrieval**: Help find relevant information in large databases such as a systematic literature review. \n",
    "\n",
    "* **Clustering and text categorization**: Techniques like topic modeling can summarize a large corpus of text by finding the most important phrases. \n",
    "\n",
    "* **Text Summarization**: Create category-sensitive text summaries of a large corpus of text. \n",
    "\n",
    "* **Machine Translation**: Translate from one language to another. \n",
    "\n",
    "In this tutorial, we are going to analyze job advertisements from 2010-2015 using topic modeling to examine the content of our data and document classification to tag the type of job in the advertisement. First we will go over how to transform our data into a matrix that can be read in by an algorithm. \n",
    " \n",
    "\n",
    "\n",
    "## Glossary of Terms\n",
    "\n",
    "* **Corpus**: A corpus of documents is the set of all documents in the dataset.\n",
    "\n",
    "* **Tokenize**: Tokenization is the process by which text is sepearated into meaningful terms or phrases. In english this is fairly triial as words as separated by whitespace. \n",
    "\n",
    "* **Stemming**: Stemming is a type of text normalization where words that have different forms but their essential meaning at the same are normalized to the original dictionary form of a word. For example \"go,\" \"went,\" and \"goes\" all stem from the lemma \"go.\"\n",
    "\n",
    "* **TFIDF**: TFIDF (Term frequency-inverse document frequency) is an example of feature enginnering where the most important words are extracted by taking account their frequency in documents and the entire corpus of documents as a whole.\n",
    "\n",
    "* **Topic Modeling**: Topic modeling is an unsupervised learning method where groups of co-occuring words are clustered into topics. Typically, the words in a cluster should be related and make sense (e.g, boat, ship, captain). Individual documents will then fall into multiple topics. \n",
    "\n",
    "* **LDA**: LDA (latent Dirichlet allocation) is a type of probabilistic model commonly used for topic modelling. \n",
    "\n",
    "* **Stop Words**: Stop words are words that have little semantic meaning like prepositions, articles and common nouns. They can often be ignored. "
   ]
  },
  {
   "cell_type": "code",
   "execution_count": 1,
   "metadata": {},
   "outputs": [
    {
     "name": "stdout",
     "output_type": "stream",
     "text": [
      "Populating the interactive namespace from numpy and matplotlib\n",
      "[nltk_data] Downloading package stopwords to\n",
      "[nltk_data]     /Users/shraws/nltk_data...\n",
      "[nltk_data]   Package stopwords is already up-to-date!\n"
     ]
    },
    {
     "data": {
      "text/plain": [
       "True"
      ]
     },
     "execution_count": 1,
     "metadata": {},
     "output_type": "execute_result"
    }
   ],
   "source": [
    "%pylab inline \n",
    "import nltk\n",
    "import ujson\n",
    "import re\n",
    "import time\n",
    "import progressbar\n",
    "\n",
    "import pandas as pd\n",
    "from __future__ import print_function\n",
    "from six.moves import zip, range \n",
    "\n",
    "from sklearn.feature_extraction.text import CountVectorizer, TfidfTransformer\n",
    "from sklearn.decomposition import LatentDirichletAllocation\n",
    "from sklearn.linear_model import LogisticRegression\n",
    "from sklearn.metrics import precision_recall_curve, roc_auc_score, auc\n",
    "from sklearn import preprocessing\n",
    "from collections import Counter, OrderedDict\n",
    "from nltk.corpus import stopwords\n",
    "from nltk import PorterStemmer\n",
    "from nltk import RegexpTokenizer\n",
    "\n",
    "from gensim import models\n",
    "from gensim.models.doc2vec import LabeledSentence\n",
    "from gensim.models import Doc2Vec\n",
    "\n",
    "nltk.download('stopwords') #download the latest stopwords"
   ]
  },
  {
   "cell_type": "markdown",
   "metadata": {},
   "source": [
    "# Supervised Learning: Document Classification.\n",
    "\n",
    "Now we turn our attention to supervised learning. Previously, using topic modelling, we were inferring relationships between the data. In supervised learning, we produce a label, *y*, given some data *x*. In order to produce labels we need to first have examples our algorithm can learn from, a training set. Developing a training set can be very expensive, as it can require a large amount of human labor or linguistic expertise. Document classification is the case where our x are documents and our y are what the documents are (e.g, title for a job position). A common example of document classification is spam detection in emails. In sentiment analysis our x is our documents and y is the state of the author. This can range from an author being happy or unhappy with a product or the author being pollitically conservative or liberal. There is also Part-of-speech tagging were our x are individual words and y is the part-of-speech. \n",
    "\n",
    "In this section we are going to train a classifier to classify job titles using our jobs dataset.\n",
    "\n",
    "\n"
   ]
  },
  {
   "cell_type": "markdown",
   "metadata": {},
   "source": [
    "## Load the Data"
   ]
  },
  {
   "cell_type": "code",
   "execution_count": 2,
   "metadata": {
    "collapsed": true
   },
   "outputs": [],
   "source": [
    "df_train = pd.read_csv('./data/train_corpus_document_tagging.csv')\n",
    "df_test = pd.read_csv('./data/test_corpus_document_tagging.csv')"
   ]
  },
  {
   "cell_type": "code",
   "execution_count": 3,
   "metadata": {},
   "outputs": [
    {
     "data": {
      "text/html": [
       "<div>\n",
       "<style>\n",
       "    .dataframe thead tr:only-child th {\n",
       "        text-align: right;\n",
       "    }\n",
       "\n",
       "    .dataframe thead th {\n",
       "        text-align: left;\n",
       "    }\n",
       "\n",
       "    .dataframe tbody tr th {\n",
       "        vertical-align: top;\n",
       "    }\n",
       "</style>\n",
       "<table border=\"1\" class=\"dataframe\">\n",
       "  <thead>\n",
       "    <tr style=\"text-align: right;\">\n",
       "      <th></th>\n",
       "      <th>Unnamed: 0</th>\n",
       "      <th>normalizedTitle_onetName</th>\n",
       "      <th>jobDescription</th>\n",
       "    </tr>\n",
       "  </thead>\n",
       "  <tbody>\n",
       "    <tr>\n",
       "      <th>0</th>\n",
       "      <td>96011</td>\n",
       "      <td>Credit Analysts</td>\n",
       "      <td>/Join a financial group thats as committed to ...</td>\n",
       "    </tr>\n",
       "    <tr>\n",
       "      <th>1</th>\n",
       "      <td>355594</td>\n",
       "      <td>Credit Analysts</td>\n",
       "      <td>for fastest consideration on this position, pl...</td>\n",
       "    </tr>\n",
       "    <tr>\n",
       "      <th>2</th>\n",
       "      <td>118598</td>\n",
       "      <td>Credit Analysts</td>\n",
       "      <td>As a Credit Analyst youll be responsible for c...</td>\n",
       "    </tr>\n",
       "    <tr>\n",
       "      <th>3</th>\n",
       "      <td>107794</td>\n",
       "      <td>Credit Analysts</td>\n",
       "      <td>We are a specialty retailer offering the very ...</td>\n",
       "    </tr>\n",
       "    <tr>\n",
       "      <th>4</th>\n",
       "      <td>40010</td>\n",
       "      <td>Credit Analysts</td>\n",
       "      <td>Title: KYC Remediation Team Analyst II Locatio...</td>\n",
       "    </tr>\n",
       "  </tbody>\n",
       "</table>\n",
       "</div>"
      ],
      "text/plain": [
       "   Unnamed: 0 normalizedTitle_onetName  \\\n",
       "0       96011          Credit Analysts   \n",
       "1      355594          Credit Analysts   \n",
       "2      118598          Credit Analysts   \n",
       "3      107794          Credit Analysts   \n",
       "4       40010          Credit Analysts   \n",
       "\n",
       "                                      jobDescription  \n",
       "0  /Join a financial group thats as committed to ...  \n",
       "1  for fastest consideration on this position, pl...  \n",
       "2  As a Credit Analyst youll be responsible for c...  \n",
       "3  We are a specialty retailer offering the very ...  \n",
       "4  Title: KYC Remediation Team Analyst II Locatio...  "
      ]
     },
     "execution_count": 3,
     "metadata": {},
     "output_type": "execute_result"
    }
   ],
   "source": [
    "df_train.head()"
   ]
  },
  {
   "cell_type": "code",
   "execution_count": 4,
   "metadata": {},
   "outputs": [
    {
     "data": {
      "text/plain": [
       "array(['Credit Analysts', 'Financial Examiners'], dtype=object)"
      ]
     },
     "execution_count": 4,
     "metadata": {},
     "output_type": "execute_result"
    }
   ],
   "source": [
    "df_train['normalizedTitle_onetName'].unique()"
   ]
  },
  {
   "cell_type": "code",
   "execution_count": 5,
   "metadata": {},
   "outputs": [
    {
     "data": {
      "text/plain": [
       "Counter({'Credit Analysts': 51, 'Financial Examiners': 51})"
      ]
     },
     "execution_count": 5,
     "metadata": {},
     "output_type": "execute_result"
    }
   ],
   "source": [
    "Counter(df_train['normalizedTitle_onetName'].values)"
   ]
  },
  {
   "cell_type": "code",
   "execution_count": 6,
   "metadata": {},
   "outputs": [
    {
     "data": {
      "text/plain": [
       "'Credit Analysts'"
      ]
     },
     "execution_count": 6,
     "metadata": {},
     "output_type": "execute_result"
    }
   ],
   "source": [
    "df_train.iloc[0]['normalizedTitle_onetName']"
   ]
  },
  {
   "cell_type": "code",
   "execution_count": 7,
   "metadata": {},
   "outputs": [
    {
     "data": {
      "text/html": [
       "<div>\n",
       "<style>\n",
       "    .dataframe thead tr:only-child th {\n",
       "        text-align: right;\n",
       "    }\n",
       "\n",
       "    .dataframe thead th {\n",
       "        text-align: left;\n",
       "    }\n",
       "\n",
       "    .dataframe tbody tr th {\n",
       "        vertical-align: top;\n",
       "    }\n",
       "</style>\n",
       "<table border=\"1\" class=\"dataframe\">\n",
       "  <thead>\n",
       "    <tr style=\"text-align: right;\">\n",
       "      <th></th>\n",
       "      <th>Unnamed: 0</th>\n",
       "      <th>normalizedTitle_onetName</th>\n",
       "      <th>jobDescription</th>\n",
       "    </tr>\n",
       "  </thead>\n",
       "  <tbody>\n",
       "    <tr>\n",
       "      <th>0</th>\n",
       "      <td>356466</td>\n",
       "      <td>Credit Analysts</td>\n",
       "      <td>Collections Analyst to monitor and follow up o...</td>\n",
       "    </tr>\n",
       "    <tr>\n",
       "      <th>1</th>\n",
       "      <td>314705</td>\n",
       "      <td>Credit Analysts</td>\n",
       "      <td>Credit Analyst **Location:** LAVERGNE, TN **Sa...</td>\n",
       "    </tr>\n",
       "    <tr>\n",
       "      <th>2</th>\n",
       "      <td>84895</td>\n",
       "      <td>Credit Analysts</td>\n",
       "      <td>Deputy Head of Credit/Senior Credit Officer - ...</td>\n",
       "    </tr>\n",
       "    <tr>\n",
       "      <th>3</th>\n",
       "      <td>194749</td>\n",
       "      <td>Credit Analysts</td>\n",
       "      <td>Dresden Partners cuenta con 10 anos de experie...</td>\n",
       "    </tr>\n",
       "    <tr>\n",
       "      <th>4</th>\n",
       "      <td>351689</td>\n",
       "      <td>Credit Analysts</td>\n",
       "      <td>Degreed accountant with manufacturing experien...</td>\n",
       "    </tr>\n",
       "  </tbody>\n",
       "</table>\n",
       "</div>"
      ],
      "text/plain": [
       "   Unnamed: 0 normalizedTitle_onetName  \\\n",
       "0      356466          Credit Analysts   \n",
       "1      314705          Credit Analysts   \n",
       "2       84895          Credit Analysts   \n",
       "3      194749          Credit Analysts   \n",
       "4      351689          Credit Analysts   \n",
       "\n",
       "                                      jobDescription  \n",
       "0  Collections Analyst to monitor and follow up o...  \n",
       "1  Credit Analyst **Location:** LAVERGNE, TN **Sa...  \n",
       "2  Deputy Head of Credit/Senior Credit Officer - ...  \n",
       "3  Dresden Partners cuenta con 10 anos de experie...  \n",
       "4  Degreed accountant with manufacturing experien...  "
      ]
     },
     "execution_count": 7,
     "metadata": {},
     "output_type": "execute_result"
    }
   ],
   "source": [
    "df_test.head()"
   ]
  },
  {
   "cell_type": "code",
   "execution_count": 8,
   "metadata": {},
   "outputs": [
    {
     "data": {
      "text/plain": [
       "array(['Credit Analysts', 'Financial Examiners'], dtype=object)"
      ]
     },
     "execution_count": 8,
     "metadata": {},
     "output_type": "execute_result"
    }
   ],
   "source": [
    "df_test['normalizedTitle_onetName'].unique()"
   ]
  },
  {
   "cell_type": "code",
   "execution_count": 9,
   "metadata": {},
   "outputs": [
    {
     "data": {
      "text/plain": [
       "Counter({'Credit Analysts': 77, 'Financial Examiners': 77})"
      ]
     },
     "execution_count": 9,
     "metadata": {},
     "output_type": "execute_result"
    }
   ],
   "source": [
    "Counter(df_test['normalizedTitle_onetName'].values)"
   ]
  },
  {
   "cell_type": "markdown",
   "metadata": {},
   "source": [
    "Our data is job advertisements for credit analysts and financial examiners."
   ]
  },
  {
   "cell_type": "markdown",
   "metadata": {},
   "source": [
    "## Process our Data\n",
    "\n",
    "In order to feed out data into a classifier we need to pull out the labels, our y's, and a clean corpus of documents, x, for our training and testing set. "
   ]
  },
  {
   "cell_type": "code",
   "execution_count": 10,
   "metadata": {},
   "outputs": [],
   "source": [
    "RE_PREPROCESS = r'\\W+|\\d+'\n",
    "\n",
    "train_labels = df_train.normalizedTitle_onetName.values\n",
    "train_corpus = np.array( [re.sub(RE_PREPROCESS, ' ', text).lower() for text in df_train.jobDescription.values])\n",
    "\n",
    "test_labels = df_test.normalizedTitle_onetName.values\n",
    "test_corpus = np.array( [re.sub(RE_PREPROCESS, ' ', text).lower() for text in df_test.jobDescription.values])\n",
    "\n",
    "labels = np.append(train_labels, test_labels)\n",
    "corpus = np.append(train_corpus,test_corpus)\n"
   ]
  },
  {
   "cell_type": "code",
   "execution_count": 11,
   "metadata": {
    "collapsed": true
   },
   "outputs": [],
   "source": [
    "#Tokenize the document words\n",
    "def pre_process(docs): \n",
    "    processed_corpus=[]\n",
    "    for i in range(len(docs)):\n",
    "        doc = docs[i].split()\n",
    "        processed_corpus.append(doc)\n",
    "    return processed_corpus"
   ]
  },
  {
   "cell_type": "code",
   "execution_count": 12,
   "metadata": {
    "collapsed": true
   },
   "outputs": [],
   "source": [
    "# Class for defining LabeledSentence iterator object for the documents\n",
    "class LabeledLineSentence(object):\n",
    "        def __init__(self, doc_list, labels_list):\n",
    "            self.labels_list = labels_list\n",
    "            self.doc_list = doc_list\n",
    "        def __iter__(self):\n",
    "            for idx, doc in enumerate(self.doc_list):\n",
    "                yield models.doc2vec.LabeledSentence(doc,[self.labels_list[idx]])"
   ]
  },
  {
   "cell_type": "code",
   "execution_count": 13,
   "metadata": {
    "collapsed": true
   },
   "outputs": [],
   "source": [
    "#This function converts the corpus to a doc2vec vector and return the corresponding vectors\n",
    "def get_doc2vec(train_corpus,test_corpus):\n",
    "    \n",
    "    #Creating unique labels for each jon description\n",
    "    train_doc_labels = np.array(['Train{}'.format(i) for i in range(len(train_corpus))])\n",
    "    test_doc_labels = np.array(['Test{}'.format(i) for i in range(len(test_corpus))])\n",
    "\n",
    "    it_train = LabeledLineSentence(train_corpus, train_doc_labels)\n",
    "    it_test =  LabeledLineSentence(test_corpus, test_doc_labels)\n",
    "    \n",
    "    \n",
    "    model_train = models.Doc2Vec( min_count=1, workers=11,alpha=0.025, min_alpha=0.025) \n",
    "    model_test  = models.Doc2Vec( min_count=1, workers=11,alpha=0.025, min_alpha=0.025) \n",
    "    \n",
    "    #Building vocabulary for both training and testing Doc2vec models\n",
    "    model_train.build_vocab(it_train)\n",
    "    model_test.build_vocab(it_test)\n",
    "    \n",
    "    #Training the train corpus\n",
    "    for epoch in range(10):\n",
    "        model_train.train(it_train,total_examples=model_train.corpus_count,epochs=model_train.iter)\n",
    "        model_train.alpha -= 0.002\n",
    "        model_train.min_alpha = model_train.alpha\n",
    "        \n",
    "    #Training the test corpus\n",
    "    for epoch in range(10):\n",
    "        model_test.train(it_test,total_examples=model_test.corpus_count,epochs=model_test.iter)\n",
    "        model_test.alpha -= 0.002\n",
    "        model_test.min_alpha = model_test.alpha\n",
    "    \n",
    "    print(\"Finished Training!\")\n",
    "    model_train.save(\"train_model.doc2vec\")\n",
    "    d2v_train_model = models.doc2vec.Doc2Vec.load('train_model.doc2vec')\n",
    "\n",
    "    model_test.save(\"test_model.doc2vec\")\n",
    "    d2v_test_model = models.doc2vec.Doc2Vec.load('test_model.doc2vec')\n",
    "    \n",
    "    train_vecs = np.array(model_train.docvecs)\n",
    "    test_vecs = np.array(model_test.docvecs)\n",
    "    \n",
    "    return train_vecs,test_vecs\n"
   ]
  },
  {
   "cell_type": "code",
   "execution_count": 14,
   "metadata": {},
   "outputs": [
    {
     "name": "stdout",
     "output_type": "stream",
     "text": [
      "Finished Training!\n"
     ]
    }
   ],
   "source": [
    "processed_train_corpus = pre_process(train_corpus)\n",
    "processed_test_corpus  = pre_process(test_corpus)\n",
    "\n",
    "train_vecs,test_vecs = get_doc2vec(processed_train_corpus,processed_test_corpus)"
   ]
  },
  {
   "cell_type": "markdown",
   "metadata": {},
   "source": [
    "Just as we had done in the unsupervised learning we have to transform our data. This time we have to transform our testing and training set into two different bag-of-words. The classifer will learn from the training set and we will evaluate the clasffier's performance on the testing set."
   ]
  },
  {
   "cell_type": "markdown",
   "metadata": {},
   "source": [
    "We cannot pass the label \"Credit Analyst\" or \"Financial Examiner\" into the classifier. Instead we to encode them as 0s and 1s using the labelencoder as a part of sklearn. "
   ]
  },
  {
   "cell_type": "code",
   "execution_count": 15,
   "metadata": {
    "collapsed": true
   },
   "outputs": [],
   "source": [
    "#relabel our labels as a 0 or 1\n",
    "le = preprocessing.LabelEncoder() \n",
    "le.fit(labels)\n",
    "labels_binary = le.transform(labels)"
   ]
  },
  {
   "cell_type": "code",
   "execution_count": 16,
   "metadata": {},
   "outputs": [
    {
     "data": {
      "text/plain": [
       "256"
      ]
     },
     "execution_count": 16,
     "metadata": {},
     "output_type": "execute_result"
    }
   ],
   "source": [
    "len(labels)"
   ]
  },
  {
   "cell_type": "markdown",
   "metadata": {},
   "source": [
    "We also need to create arrays of indices so we can access the training and testing sets accoringly."
   ]
  },
  {
   "cell_type": "code",
   "execution_count": 17,
   "metadata": {
    "collapsed": true
   },
   "outputs": [],
   "source": [
    "train_size = df_train.shape[0]\n",
    "\n",
    "train_set_idx = np.arange(0,train_size)\n",
    "test_set_idx = np.arange(train_size, len(labels))\n",
    "\n",
    "train_labels_binary = labels_binary[train_set_idx]\n",
    "test_labels_binary = labels_binary[test_set_idx]"
   ]
  },
  {
   "cell_type": "markdown",
   "metadata": {},
   "source": [
    "The classifier we are using in the example is LogisticRegression. As we saw in the Machine Learning tutorial we first decide on a classifier, then we fit the classfier to create a model. We can then test our model with our testing set by passing in the features of the testing set. The model will output the probablity of each document being classfied as a Credit Analyst or Financial Analyst. "
   ]
  },
  {
   "cell_type": "code",
   "execution_count": 18,
   "metadata": {
    "collapsed": true
   },
   "outputs": [],
   "source": [
    "clf = LogisticRegression(penalty='l1')\n",
    "mdl = clf.fit(train_vecs, labels_binary[train_set_idx]) #train the classifer to get the model\n",
    "y_score = mdl.predict_proba( test_vecs ) #score of the document being an ad for Credit or Financial Analyst"
   ]
  },
  {
   "cell_type": "markdown",
   "metadata": {},
   "source": [
    "### Evaluation\n"
   ]
  },
  {
   "cell_type": "code",
   "execution_count": 19,
   "metadata": {
    "collapsed": true
   },
   "outputs": [],
   "source": [
    "def plot_precision_recall_n(y_true, y_prob, model_name):\n",
    "    \"\"\"\n",
    "    y_true: ls\n",
    "        ls of ground truth labels\n",
    "    y_prob: ls\n",
    "        ls of predic proba from model\n",
    "    model_name: str\n",
    "        str of model name (e.g, LR_123)\n",
    "    \"\"\"\n",
    "    from sklearn.metrics import precision_recall_curve\n",
    "    y_score = y_prob\n",
    "    precision_curve, recall_curve, pr_thresholds = precision_recall_curve(y_true, y_score)\n",
    "    precision_curve = precision_curve[:-1]\n",
    "    recall_curve = recall_curve[:-1]\n",
    "    pct_above_per_thresh = []\n",
    "    number_scored = len(y_score)\n",
    "    for value in pr_thresholds:\n",
    "        num_above_thresh = len(y_score[y_score>=value])\n",
    "        pct_above_thresh = num_above_thresh / float(number_scored)\n",
    "        pct_above_per_thresh.append(pct_above_thresh)\n",
    "    pct_above_per_thresh = np.array(pct_above_per_thresh)\n",
    "    plt.clf()\n",
    "    fig, ax1 = plt.subplots()\n",
    "    ax1.plot(pct_above_per_thresh, precision_curve, 'b')\n",
    "    ax1.set_xlabel('percent of population')\n",
    "    ax1.set_ylabel('precision', color='b')\n",
    "    ax1.set_ylim(0,1.05)\n",
    "    ax2 = ax1.twinx()\n",
    "    ax2.plot(pct_above_per_thresh, recall_curve, 'r')\n",
    "    ax2.set_ylabel('recall', color='r')\n",
    "    ax2.set_ylim(0,1.05)\n",
    "    \n",
    "    name = model_name\n",
    "    plt.title(name)\n",
    "    plt.show()"
   ]
  },
  {
   "cell_type": "code",
   "execution_count": 20,
   "metadata": {
    "scrolled": false
   },
   "outputs": [
    {
     "data": {
      "text/plain": [
       "<matplotlib.figure.Figure at 0x1a17ab5b70>"
      ]
     },
     "metadata": {},
     "output_type": "display_data"
    },
    {
     "data": {
      "image/png": "[encoded data removed]",
      "text/plain": [
       "<matplotlib.figure.Figure at 0x1a17bd4ef0>"
      ]
     },
     "metadata": {},
     "output_type": "display_data"
    }
   ],
   "source": [
    " plot_precision_recall_n(labels_binary[test_set_idx], y_score[:,1], 'LR')"
   ]
  },
  {
   "cell_type": "markdown",
   "metadata": {},
   "source": [
    "If we examine our precision-recall curve we can see that our precision drops from 1 to 0.8 and recall is 0.8 up to 0.4 percent of the population. Unlike the previous example where we are using a precision at k curve to prioritize our resources. We can still use a precision at k curve to see what parts of the corpus can be tagged by the classifier and which should undergo a manual clerical review. Based on this we can make decisions of what documents should be manually tagged by a person during a clerical rewiew, say, the percent of the population above 40%. \n",
    "\n",
    "Alternatively, we can try to maximize the entire precision-recall space. In this case we need a different metric. "
   ]
  },
  {
   "cell_type": "code",
   "execution_count": 21,
   "metadata": {
    "collapsed": true
   },
   "outputs": [],
   "source": [
    "def plot_precision_recall(y_true,y_score):\n",
    "    \"\"\"\n",
    "    Plot a precision recall curve\n",
    "    \n",
    "    Parameters\n",
    "    ----------\n",
    "    y_true: ls\n",
    "        ground truth labels\n",
    "    y_score: ls\n",
    "        score output from model\n",
    "    \"\"\"\n",
    "    precision_curve, recall_curve, pr_thresholds = precision_recall_curve(y_true,y_score[:,1])\n",
    "    plt.plot(recall_curve, precision_curve)\n",
    "    plt.xlabel('Recall')\n",
    "    plt.ylabel('Precision')\n",
    "    auc_val = auc(recall_curve,precision_curve)\n",
    "    print('AUC-PR: {0:1f}'.format(auc_val))\n",
    "    plt.show()\n",
    "    plt.clf()"
   ]
  },
  {
   "cell_type": "code",
   "execution_count": 22,
   "metadata": {},
   "outputs": [
    {
     "name": "stdout",
     "output_type": "stream",
     "text": [
      "AUC-PR: 0.812860\n"
     ]
    },
    {
     "data": {
      "image/png": "[encoded data removed]",
      "text/plain": [
       "<matplotlib.figure.Figure at 0x1a1b7ee7b8>"
      ]
     },
     "metadata": {},
     "output_type": "display_data"
    },
    {
     "data": {
      "text/plain": [
       "<matplotlib.figure.Figure at 0x1a19ca2f60>"
      ]
     },
     "metadata": {},
     "output_type": "display_data"
    }
   ],
   "source": [
    "plot_precision_recall(labels_binary[test_set_idx],y_score)"
   ]
  },
  {
   "cell_type": "markdown",
   "metadata": {},
   "source": [
    "If we look at the area under the curve, 0.89, we see we have a very good classifier. The AUC shows how accurate our scores are under different cut-off thresholds. If you recall from the Machine Learning tutorial, the model outputs a score. We then set a cutoff to bin each score as a 0 or 1. The closer our scores are to the true values the more resilent they are to different cutoffs. For instance, if our scores were perfect our AUC would be 1. "
   ]
  },
  {
   "cell_type": "markdown",
   "metadata": {},
   "source": [
    "## Feature Importances"
   ]
  },
  {
   "cell_type": "code",
   "execution_count": 23,
   "metadata": {
    "collapsed": true
   },
   "outputs": [],
   "source": [
    "def display_feature_importances(coef,features, labels, num_features=10):\n",
    "    \"\"\"\n",
    "    output feature importances\n",
    "    \n",
    "    Parameters\n",
    "    ----------\n",
    "    coef: numpy\n",
    "        feature importances\n",
    "    features: ls \n",
    "        feature names\n",
    "    labels: ls\n",
    "        labels for the classifier\n",
    "    num_features: int\n",
    "        number of features to output (default 10)\n",
    "    \n",
    "    Example\n",
    "    --------\n",
    "    \n",
    "    \n",
    "    \"\"\"\n",
    "    coef = mdl.coef_.ravel()\n",
    "\n",
    "    dict_feature_importances = dict( zip(features, coef) )\n",
    "    orddict_feature_importances = OrderedDict( \n",
    "                                    sorted(dict_feature_importances.items(), key=lambda x: x[1]) )\n",
    "\n",
    "    ls_sorted_features  = list(orddict_feature_importances.keys())\n",
    "\n",
    "    num_features = 10\n",
    "    label0_features = ls_sorted_features[:num_features] \n",
    "    label1_features = ls_sorted_features[-num_features:] \n",
    "\n",
    "    print(labels[0],label0_features)\n",
    "    print(labels[1], label1_features)"
   ]
  },
  {
   "cell_type": "code",
   "execution_count": 24,
   "metadata": {
    "collapsed": true
   },
   "outputs": [],
   "source": [
    "#display_feature_importances(mdl.coef_.ravel(), features, ['Credit Analysts','Financial Examiner'])"
   ]
  },
  {
   "cell_type": "markdown",
   "metadata": {},
   "source": [
    "The feature importances are which words are the most relevant for predicting the type of Job Ad. We would expect words like credit, customer and candidate to be found in ads for a Credit Analyst. While words like review officer, compliance would be found in ads for a Financial Examiner. "
   ]
  },
  {
   "cell_type": "markdown",
   "metadata": {},
   "source": [
    "## Cross-validation\n",
    "\n",
    "Recall from the machine learning tutorial that we are seeking the find the most general pattern in the data in order to have to most general model that will be successfull at classfying new unseen data. Our previous strategy above was the *Out-of-sample and holdout set*. With this strategy we try to find a general pattern by randomly dividing our data into a test and training set based on some percentage split (e.g., 50-50 or 80-20). We train on the test set and evalute on the test set, where we pretend the test set is unforseen data. A significant drawback with this approach is we may be lucky or unlucky with our random split. A possible solution is to create many random splits into training and testing sets and evaluate each split to estimate the performance of a given model. \n",
    "\n",
    "A more sophisticated holdout training and testing procedure is *cross-validation*. In cross-validation we split our data into k-folds or k-partions, usually 5 or 10 folds. We then iterate k times. In each iteration one of the folds is used as a testing set and the rest of the folds are combined to form the training set. We can then evaluate the performance at each iteration to estimate the performance of a given method. An advantage of using cross-validation is all examples of data are used in the training set at least once. \n"
   ]
  },
  {
   "cell_type": "code",
   "execution_count": 25,
   "metadata": {
    "collapsed": true
   },
   "outputs": [],
   "source": [
    "def create_test_train_bag_of_words(train_corpus, test_corpus):\n",
    "    \"\"\"\n",
    "    Create test and training set bag of words\n",
    "    \n",
    "    \n",
    "    Parameters\n",
    "    ----------\n",
    "    train_corpus: ls\n",
    "        ls of raw text for text corpus.\n",
    "    test_corpus: ls\n",
    "        ls of raw text for train corpus. \n",
    "        \n",
    "    Returns\n",
    "    -------\n",
    "    (train_bag_of_words,test_bag_of_words): scipy sparse matrix\n",
    "        bag-of-words representation of train and test corpus\n",
    "    features: ls\n",
    "        ls of words used as features. \n",
    "    \"\"\"\n",
    "    #parameters for vectorizer \n",
    "    ANALYZER = \"word\" #unit of features are single words rather then phrases of words \n",
    "    STRIP_ACCENTS = 'unicode'\n",
    "    TOKENIZER = None\n",
    "    NGRAM_RANGE = (0,2) #Range for pharases of words\n",
    "    MIN_DF = 0.01 # Exclude words that have a frequency less than the threshold\n",
    "    MAX_DF = 0.8  # Exclude words that have a frequency greater then the threshold \n",
    "\n",
    "    vectorizer = CountVectorizer(analyzer=ANALYZER,\n",
    "                                tokenizer=None, # alternatively tokenize_and_stem but it will be slower \n",
    "                                ngram_range=NGRAM_RANGE,\n",
    "                                stop_words = stopwords.words('english'),\n",
    "                                strip_accents=STRIP_ACCENTS,\n",
    "                                min_df = MIN_DF,\n",
    "                                max_df = MAX_DF)\n",
    "    \n",
    "    NORM = None #turn on normalization flag\n",
    "    SMOOTH_IDF = True #prvents division by zero errors\n",
    "    SUBLINEAR_IDF = True #replace TF with 1 + log(TF)\n",
    "    USE_IDF = True #flag to control whether to use TFIDF\n",
    "\n",
    "    transformer = TfidfTransformer(norm = NORM,smooth_idf = SMOOTH_IDF,sublinear_tf = True)\n",
    "\n",
    "    #get the bag-of-words from the vectorizer and\n",
    "    #then use TFIDF to limit the tokens found throughout the text \n",
    "    train_bag_of_words = vectorizer.fit_transform( train_corpus ) \n",
    "    test_bag_of_words = vectorizer.transform( test_corpus )\n",
    "    if USE_IDF:\n",
    "        train_tfidf = transformer.fit_transform(train_bag_of_words)\n",
    "        test_tfidf = transformer.transform(test_bag_of_words)\n",
    "    features = vectorizer.get_feature_names()\n",
    "\n",
    "    \n",
    "    return train_tfidf, test_tfidf, features"
   ]
  },
  {
   "cell_type": "code",
   "execution_count": 26,
   "metadata": {},
   "outputs": [
    {
     "name": "stderr",
     "output_type": "stream",
     "text": [
      "/Users/shraws/anaconda3/lib/python3.6/site-packages/sklearn/cross_validation.py:41: DeprecationWarning: This module was deprecated in version 0.18 in favor of the model_selection module into which all the refactored classes and functions are moved. Also note that the interface of the new CV iterators are different from that of this module. This module will be removed in 0.20.\n",
      "  \"This module will be removed in 0.20.\", DeprecationWarning)\n"
     ]
    },
    {
     "name": "stdout",
     "output_type": "stream",
     "text": [
      "Finished Training!\n",
      "Finished Training!\n",
      "Finished Training!\n",
      "Finished Training!\n",
      "Finished Training!\n",
      "Average AUCC 0.601612323794\n"
     ]
    },
    {
     "data": {
      "image/png": "[encoded data removed]",
      "text/plain": [
       "<matplotlib.figure.Figure at 0x10783e630>"
      ]
     },
     "metadata": {},
     "output_type": "display_data"
    }
   ],
   "source": [
    "from sklearn.cross_validation import StratifiedKFold\n",
    "cv = StratifiedKFold(train_labels_binary, n_folds=5)\n",
    "train_labels_binary = le.transform(train_labels)\n",
    "auc_sum = 0\n",
    "for i, (train,test) in enumerate(cv):\n",
    "    cv_train = train_corpus[train]\n",
    "    cv_test = train_corpus[test]\n",
    "    processed_train_corpus = pre_process(cv_train)\n",
    "    processed_test_corpus  = pre_process(cv_test)\n",
    "\n",
    "    doc2vec_train, doc2vec_test = get_doc2vec(processed_train_corpus,processed_test_corpus)\n",
    "    \n",
    "    probas_ = clf.fit(doc2vec_train, \n",
    "                      train_labels_binary[train]).predict_proba(doc2vec_test)\n",
    "    cv_test_labels = train_labels_binary[test]\n",
    "    \n",
    "    precision_curve, recall_curve, pr_thresholds = precision_recall_curve(cv_test_labels,\n",
    "                                                                          probas_[:,1])\n",
    "    auc_val = auc(recall_curve,precision_curve)\n",
    "    plt.plot(recall_curve, precision_curve, label='AUC-PR {0} {1:.2f}'.format(i,auc_val))\n",
    "    auc_sum += auc_val\n",
    "    \n",
    "plt.ylim(0,1.05)    \n",
    "plt.xlabel('Recall')\n",
    "plt.ylabel('Precision')\n",
    "plt.legend(loc=\"lower left\", fontsize='x-small')\n",
    "print(\"Average AUCC\", auc_sum/5)"
   ]
  },
  {
   "cell_type": "markdown",
   "metadata": {},
   "source": [
    "In this case we did 5-fold cross-validation and plotted precision-recall curves for each iteration. We can then average the AUC-PR of each iteration to estimate the performance of our method. "
   ]
  },
  {
   "cell_type": "markdown",
   "metadata": {
    "collapsed": true
   },
   "source": [
    "## Examples of tagging"
   ]
  },
  {
   "cell_type": "code",
   "execution_count": 27,
   "metadata": {
    "scrolled": false
   },
   "outputs": [
    {
     "name": "stdout",
     "output_type": "stream",
     "text": [
      "Financial Examiners:4.202560541607445e-05\n",
      "---\n",
      " general responsibilities the compliance analyst iii is responsible for advanced monitoring analysis investigation of transactional data for identification of patterns and trends of questionable and or suspicious activity as it relates to risks associated with violations money laundering fraud terrorist financing corruption and sanctions lists the incumbent is responsible for gathering the proper documentation investigating potentially suspicious financial activity writing details reports summarizing research results and when appropriate files suspicious activity reports sars with country regulatory bodies refers matters to the regional compliance teams for review and reporting conducting an investigation may involve written and verbal communications with agents customers law enforcement and moneygram employees primary responsibilities o evaluates fraudulent suspicious and or unusual activity for regulatory reporting and or escalation to management and or other departments o determines whether transactions are legitimate and have been properly documented o serves as subject matter expert in analysis and investigative techniques o gathers pertinent evidence proper documentation through confidential research analysis to support analytical finding through more complex monitoring rules conducting internal external research pulling of transaction records and reviewing reports o conducts inbound and or outbound interviews with consumer agent or employees to gather pertinent evidence and additional details o conducts all regulatory submissions within the timelines and guidelines and country regulatory requirements o create and maintains investigative case files ensure appropriate records files are maintained accurately and are properly reconciled per all record keeping requirements mgi and regulatory o gathers information responsive to internal and or external requests for sar supporting documentation subpoenas or other requests as needed o makes sure databases logs are kept current reconciled and confidential o utilizes resources to stay abreast of industry trends and standards o provides and assist management with information on trends patterns to be used for potential control or rule enhancements helping to increase department efficiency effectiveness of the aml process for moneygrams compliance program o partners with regional compliance teams to maintain awareness of transactional patterns in moderate to high risk countries as well as provide aml fraud related advisory services in relations to financial intelligence unit activities o performs other duties as assigned skills and experience required educational requirements ba bs in business finance law enforcement legal studies or a related field may be substituted with equivalent work experience in financial services law enforcement banking or a related field experience requirements   years of data analytics related to complex compliance financial investigations experience in money service business or banking environments and or familiarity with various financial products acfe or acams certification required within   months of hire exceptional analytical cross referencing and deductive reasoning skills excellent attention to detail in analysis and writing with the proven ability to formulate execute an investigation strong written and verbal communication skills o communicate effectively with a culturally diverse agent and consumer base fluent bilingual communication skills preferred o writing skills may include writing policy procedure and management reports o able to effectively communicate investigative findings and recommendations with senior leadership law enforcement proactive organized able to work independently decisive on time managed sensitive assignments demonstrated ability to work successfully in a fast pace highly structured deadline driven culture flexibility to effectively prioritize work assignments with changing priorities experience working with highly confidential information ability to work as an individual contributor within a team setting capable of sharing knowledge mentoring and training other team members demonstrated ability for computer and internet research skills advanced experience with ms office suite particularly excel ms access preferred experience using analyst notebook or other analytics and visualization tools preferred experience with financial products particularly money transfer monetary instruments and store value cards preferred knowledge of domestic and international higher risk countries jurisdictions and corridors of aml ctf concern preferred options onlineapply refer email this job to a friendemail refer a linkedin connection share on your newsfeed job id     positions   location us tx frisco posted date       category compliance fraud position type full time job type exempt days hours m f   hours more information about this job general responsibilities the compliance analyst iii is responsible for advanced monitoring analysis investigation of transactional data for identification of patterns and trends of questionable and or suspicious activity as it relates to risks associated with violations money laundering fraud terrorist financing corruption and sanctions lists the incumbent is responsible for gathering the proper documentation investigating potentially suspicious financial activity writing details reports summarizing research results and when appropriate files suspicious activity reports sars with country regulatory bodies refers matters to the regional compliance teams for review and reporting conducting an investigation may involve written and verbal communications with agents customers law enforcement and moneygram employees primary responsibilities o evaluates fraudulent suspicious and or unusual activity for regulatory reporting and or escalation to management and or other departments o determines whether transactions are legitimate and have been properly documented o serves as subject matter expert in analysis and investigative techniques o gathers pertinent evidence proper documentation through confidential research analysis to support analytical finding through more complex monitoring rules conducting internal external research pulling of transaction records and reviewing reports o conducts inbound and or outbound interviews with consumer agent or employees to gather pertinent evidence and additional details o conducts all regulatory submissions within the timelines and guidelines and country regulatory requirements o create and maintains investigative case files ensure appropriate records files are maintained accurately and are properly reconciled per all record keeping requirements mgi and regulatory o gathers information responsive to internal and or external requests for sar supporting documentation subpoenas or other requests as needed o makes sure databases logs are kept current reconciled and confidential o utilizes resources to stay abreast of industry trends and standards o provides and assist management with information on trends patterns to be used for potential control or rule enhancements helping to increase department efficiency effectiveness of the aml process for moneygrams compliance program o partners with regional compliance teams to maintain awareness of transactional patterns in moderate to high risk countries as well as provide aml fraud related advisory services in relations to financial intelligence unit activities o performs other duties as assigned skills and experience required educational requirements ba bs in business finance law enforcement legal studies or a related field may be substituted with equivalent work experience in financial services law enforcement banking or a related field experience requirements   years of data analytics related to complex compliance financial investigations experience in money service business or banking environments and or familiarity with various financial products acfe or acams certification required within   months of hire exceptional analytical cross referencing and deductive reasoning skills excellent attention to detail in analysis and writing with the proven ability to formulate execute an investigation strong written and verbal communication skills o communicate effectively with a culturally diverse agent and consumer base fluent bilingual communication skills preferred o writing skills may include writing policy procedure and management reports o able to effectively communicate investigative findings and recommendations with senior leadership law enforcement proactive organized able to work independently decisive on time managed sensitive assignments demonstrated ability to work successfully in a fast pace highly structured deadline driven culture flexibility to effectively prioritize work assignments with changing priorities experience working with highly confidential information ability to work as an individual contributor within a team setting capable of sharing knowledge mentoring and training other team members demonstrated ability for computer and internet research skills advanced experience with ms office suite particularly excel ms access preferred experience using analyst notebook or other analytics and visualization tools preferred experience with financial products particularly money transfer monetary instruments and store value cards preferred knowledge of domestic and international higher risk countries jurisdictions and corridors of aml ctf concern preferred \n",
      "===\n",
      "Credit Analysts:0.0008090181652161131\n",
      "---\n",
      "about neuberger berman group llc neuberger berman is an independent employee owned global asset management firm serving the financial needs of institutional and individual investors worldwide our broad capabilities include traditional and alternative equity and fixed income strategies private equity and commodities in addition to portfolio advice and wealth planning services we offer a broad platform to accommodate the evolving needs of our clients job description neuberger berman s non investment grade structured credit business is seeking a highly motivated analyst to join our growing structured credit team in new york ny responsibilities structured credit collateralized loan obligations clo analyst supporting structured credit portfolio manager on clo investment and clo new issue related activities the analyst will perform scenario analysis on clo portfolios and structures using excel and intex assist in monitoring investment portfolios consume and process market and dealer information and handle investor requests the analyst will also be involved in all activities related to the clo new issue program including preparing model portfolios working with underwriters on structures and documents and handling investor requests qualifications bachelor s degree     years of relevant experience with some experience and or knowledge of clos preferred ideal candidates will have a sell side or accounting firm structuring background quantitative background demonstrated by past work experience or course work strong excel and vba skills some programming a plus proficiency with intex is favorable excellent presentation business writing and oral communication skills strong analytical and problem solving skills must obtain series     licenses within   months of employment neuberger berman is an equal opportunity affirmative action employer the firm and its affiliates do not discriminate in employment because of race color religion gender national origin protected veteran status disability age citizenship marital or domestic civil partnership status sexual orientation gender identity or expression or because of any other criteria prohibited under controlling federal state or local law job title analyst non investment grade structured credit location new york ny\n",
      "===\n",
      "Credit Analysts:0.9999906941744157\n",
      "---\n",
      " job description pacific states marine fisheries commission position description all jobs will be removed at    pm pacific time the day _before_ the closing date no applications will be accepted once the job is removed title fisheries technician   ground fish commercial sampler anticipated start date december     benefits eligible yes www psmfc org benefits group definition fisheries technicians perform duties related to the protection preservation propagation and sampling of fish species and the preservation or enhancement of their habitat they use knowledge of procedural requirements and processes to support the technical work of their unit they provide practical technical support to research operations or program administration efforts _position project specifics _ position requires employee to summarize and input biological or habitat data on field forms electronic data loggers and or desktop computers they may assist with preliminary data summaries and analysis technical report writing or database management employee will go to the commercial fish docks to collect their data they then return to the office to process the data collected they may use a state vehicle or their own vehicle for travel to the commercial docks if they use their own vehicle mileage will be reimbursed employee will work a   hour week but the days and hours are variable this position requires a valid driver s license and all offers of employment will be contingent upon passing a driving record check _essential job functions _ participate in survey crews that conduct regional fishery research commercial fishing surveys or tag detection and mark recovery surveys make standardized observations such as special identification length weight growth survival reproductive condition and or signs of parasites diseases or pathogens fin clips or tags collect and organize biological samples and collections such as scales otoliths ageing structures other tissues etc summarize and input biological or habitat data on field forms electronic data loggers and or desktop computers may assist with preliminary data summaries and analyses technical report writing or database management perform precision ageing of various fish species in a laboratory setting record age and growth data in the appropriate format _knowledge required by the position_ _ _ at the lower end of the range employees use knowledge of basic arithmetic reading writing and data collection to perform routine or repetitive tasks at the upper end of the position range employees use knowledge of the basic principles and protocols of fish biology to make readings measurements and observations execute tests collect samples etc if complex equipment systems are operated the employee has the knowledge to perform calibrations or adjustments to achieve desired results __additional mandatory skills __ _ _ _ __ __ _ _lift     lbs _ _valid driver s license_ _fish species id skills _ _using fish keys_ _specific software skills spreadsheet word processing _ _oral communication skills _ _written communication skills_ _repair maintain equipment_ _supervisory controls_ _ _ at the lower end of the range the supervisor or higher graded employee assigns specific tasks and provides clear detailed and specific instructions on the methods to be used in completing those tasks an experienced employee is available to solve problems that might arise at the upper end of the range the employee receives daily weekly or even monthly directions and is expected to independently perform the recurring work within established procedures the employee independently performs tasks sequences direction is available when technical or procedural problems are encountered in all cases supervisors review overall project progress to insure that the employee works effectively and produces a high quality end product _guidelines_ _ _ guides may be regulations maps and charts sampling and survey methodologies standing operating procedures emergency response protocols oral instructions equipment or instrument manuals hardware software manuals and or fish identification keys at the lower end of the range the guides are directly applicable specific and used repetitively at the upper end of the range the guides often require careful study or cross referencing to locate the applicable rule or answer and can involve some interpretation or judgment to resolve the issue _complexity_ _ _ at the lower end of the range tasks are clear cut and directly related there is little or no choice in deciding what needs to be done actions to be taken or responses to be made are readily discernible at the upper end of the range duties often have steps or processes that vary depending upon factors such as the reason the work is being performed or the conditions under which it is being performed the employee has to be independent in recognizing such differences choosing the right course of action and then executing the proper sequences to complete the work _scope and effect_ _ _ the employee s work affects the quality of day to day operations of a significant ongoing program operation of equipment outside of prescribed ranges can cause serious injury or death to employee s and or thousands of fish incorrectly collected or processed biological samples or statistical data can result in faulty assessments and unsound management decisions _personal contacts _ contacts are with project program co workers project supervisor program manager psmfc hr staff landowners and the general public _purpose of contacts _ contacts are established to exchange information request repairs or supplies update and inform others of changes or problems encountered and assure that scientifically correct methods and procedures are being followed _physical demands_ _ _ demands can range from moderate where there is walking climbing stairs and ladders reaching lifting bending and strenuous sweeping to rigorous in the latter case the incumbent must be able to handle buckets of water or gear weighing up to   pounds _work environment_ _ _ a portion of the work is performed in an office setting with adequate lighting heating and ventilation the majority is performed in fish processing labs fish holding areas and or in the field incumbents may work on narrow elevated walkways and platforms that are over or adjacent to water field work involves exposure to all types of weather slippery docks or cold water temperatures qualifications _minimum qualification requirements_ _ _ a range of experience and education may be presented at the lower end of the range candidates must present six months of general experience or one year of education above the high school level that included at least six semester hours in any combination of scientific or technical courses an equivalent combination of experience and education is also qualifying at the upper end of the range candidates must present one year of specialized experience or a   year course of study above high school leading to a bachelor s degree with a major or at least   semester hours of coursework in any combination of scientific or technical courses an equivalent combination of experience and education is also qualifying general experience is   any type of work that demonstrates the applicant s ability to perform the work of the position or   experience that provided a familiarity with biological sciences or the processes of the biological sciences specialized experience is experience that equips the applicant with the knowledge skills and abilities to perform successfully the duties of the position and is typically in or related to the work of the position being filled ____________________________________________________________________________________________________ pacific states marine fisheries commission is an affirmative action aa and equal employment opportunity eeo employer and welcomes all qualified applicants applicants will receive fair and impartial consideration without regard to race sex color religion national origin gender identity age mental or physical disability sexual orientation veteran status genetic data or other legally protected status if you have a disability and need assistance completing the application form you may call the psmfc human resources office at       between the hours of   a m and     p m pst monday friday reasonable accommodations for interviews will be provided upon request to individuals with disabilities we maintain a drug free workplace requisition number     closing date       openings   job title ground fish commercial sampler travel requirements none position type full time regular pay rate     to     city monterey state california\n",
      "===\n",
      "Financial Examiners:0.9999999125472231\n",
      "---\n",
      " position information general statement of duties this particular job posting is an open pool position there may or may not be available openings at this time however when an opening does occur the hiring manager will draw from the pool of applicants we have on file on an as needed basis qualifications bachelors degree in education or related field required past experience in testing procedures preferred highly organized ability to pay particular attention to detail excellent communication and interpersonal skills some saturdays and evenings required reliable transportation and drivers license required responsibilities conduct testing sessions in accordance with hiset policies this position has no involvement with abe or hiset instruction maintain the security of test materials and essay topics transport hiset testing materials to approved satellite location for test administration according to the schedule created by the hiset test center verify test candidates identity by viewing picture identification at outset of each testing session work cooperatively with other hiset examiners and or hiset proctors in conducting secure testing sessions inventory and check the condition of testing materials at the beginning and end of testing sessions provide special accommodation testing for doe approved hiset candidates with disabilities when possible attend all required meetings and or trainings as scheduled by hiset operations and administration officer report any testing irregularity to hiset operations and administration officer immediately upon completion of said hiset test session and provide detailed account of incident for documentation purposes perform other duties as assigned special instructions to applicants candidates may be subject to employment screening to include both a criminal offender record information cori request and a sexual offender registry information sori this particular job posting is an open pool position there may or may not be available openings at this time however when an opening does occur the hiring manager will draw from the pool of applicants we have on file on an as needed basis disclosure mount wachusett community college is an affirmative action equal opportunity employer and does not discriminate on the basis of race color national origin sex disability religion age veteran status genetic information gender identity or sexual orientation in its programs and activities as required by title ix of the educational amendments of   the americans with disabilities act of   section   of the rehabilitation act of   title vii of the civil rights act of   and other applicable statutes and college policies the college prohibits sexual harassment including sexual violence inquiries or complaints concerning discrimination harassment retaliation or sexual violence shall be referred to the colleges affirmative action and or title ix coordinator the massachusetts commission against discrimination the equal employment opportunities commission or the united states department of educations office for civil rights position title hiset examiner open pool department adult basic education position type professional rate of pay     per hr pay type hourly hours week varies per testing schedule maximum   hours per week funding source   trust funding source   not applicable funding source   not applicable funding source   not applicable benefits eligible no employee status part time employee classification mccc psm open until filled yes\n",
      "===\n"
     ]
    }
   ],
   "source": [
    "num_comments = 2\n",
    "label0_comment_idx = y_score[:,1].argsort()[:num_comments] #SuicideWatch\n",
    "label1_comment_idx = y_score[:,1].argsort()[-num_comments:] #depression\n",
    "test_set_labels = labels[test_set_idx]\n",
    "#convert back to the indices of the original dataset\n",
    "top_comments_testing_set_idx = np.concatenate([label0_comment_idx, \n",
    "                                               label1_comment_idx])\n",
    "\n",
    "\n",
    "#these are the 5 comments the model is most sure of \n",
    "for i in top_comments_testing_set_idx:\n",
    "    print(\n",
    "        u\"\"\"{}:{}\\n---\\n{}\\n===\"\"\".format(test_set_labels[i],\n",
    "                                          y_score[i,1],\n",
    "                                          test_corpus[i]))"
   ]
  },
  {
   "cell_type": "markdown",
   "metadata": {},
   "source": [
    "##### These are the top-2 example for each label that the model is sure of. In this case we can see our important feature words in the ads and see how the model classified these advertisements. "
   ]
  },
  {
   "cell_type": "markdown",
   "metadata": {
    "collapsed": true
   },
   "source": [
    "# Further Resources"
   ]
  },
  {
   "cell_type": "markdown",
   "metadata": {},
   "source": [
    "A great resource for NLP in python is \n",
    "[Natural Language Processing with Python](https://www.amazon.com/Natural-Language-Processing-Python-Analyzing/dp/0596516495)"
   ]
  },
  {
   "cell_type": "markdown",
   "metadata": {},
   "source": [
    "# Exercises "
   ]
  },
  {
   "cell_type": "markdown",
   "metadata": {},
   "source": [
    "Work thorugh the Reddit_TextAnalysis.ipynb notebook."
   ]
  }
 ],
 "metadata": {
  "kernelspec": {
   "display_name": "Python 3",
   "language": "python",
   "name": "python3"
  },
  "language_info": {
   "codemirror_mode": {
    "name": "ipython",
    "version": 3
   },
   "file_extension": ".py",
   "mimetype": "text/x-python",
   "name": "python",
   "nbconvert_exporter": "python",
   "pygments_lexer": "ipython3",
   "version": "3.6.2"
  }
 },
 "nbformat": 4,
 "nbformat_minor": 1
}
