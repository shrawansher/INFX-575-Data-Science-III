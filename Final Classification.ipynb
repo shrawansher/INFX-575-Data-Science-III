{
 "cells": [
  {
   "cell_type": "code",
   "execution_count": 48,
   "metadata": {
    "collapsed": true
   },
   "outputs": [],
   "source": [
    "import json\n",
    "import pandas as pd\n",
    "import nltk\n",
    "from nltk import word_tokenize\n",
    "from nltk.corpus import stopwords\n",
    "import numpy as np\n",
    "import random\n",
    "import re\n",
    "import string"
   ]
  },
  {
   "cell_type": "code",
   "execution_count": 49,
   "metadata": {
    "collapsed": true
   },
   "outputs": [],
   "source": [
    "\n",
    "REVIEWS = 'reviews'"
   ]
  },
  {
   "cell_type": "code",
   "execution_count": 50,
   "metadata": {
    "collapsed": true
   },
   "outputs": [],
   "source": [
    "\n",
    "category_map = {\n",
    "    \"Amazon_Instant_Video\" : 0,\n",
    "    \"Apps_for_Android\" : 1,\n",
    "    \"Automotive\" : 2,\n",
    "    \"Baby\" : 3,\n",
    "    \"Beauty\" : 4,\n",
    "    \"Books\" : 5,\n",
    "    \"CDs_and_Vinyl\" : 6,\n",
    "    \"Cell_Phones_and_Accessories\" : 7,\n",
    "    \"Clothing_Shoes_and_Jewelry\" : 8,\n",
    "    \"Digital_Music\" : 9,\n",
    "    \"Electronics\" : 10,\n",
    "    \"Grocery_and_Gourmet_Food\" : 11,\n",
    "    \"Health_and_Personal_Care\" : 12,\n",
    "    \"Home_and_Kitchen\" : 13,\n",
    "    \"Kindle_Store\" : 14,\n",
    "    \"Movies_and_TV\" : 15,\n",
    "    \"Musical_Instruments\" : 16,\n",
    "    \"Office_Products\" : 17,\n",
    "    \"Patio_Lawn_and_Garden\" : 18,\n",
    "    \"Pet_Supplies\" : 19,\n",
    "    \"Sports_and_Outdoors\" : 20,\n",
    "    \"Tools_and_Home_Improvement\" : 21,\n",
    "    \"Toys_and_Games\" : 22,\n",
    "    \"Video_Games\" : 23\n",
    "}\n",
    "\n",
    "col_names = [\"reviewer_id\", \"asin\", \"summary\",\"review_text\", \"overall\", \"category\", \"score\",\n",
    "             \"good\", \"bad\"]"
   ]
  },
  {
   "cell_type": "code",
   "execution_count": 58,
   "metadata": {},
   "outputs": [],
   "source": [
    "def read_dataset():\n",
    "    data =[]\n",
    "    for category in category_map:\n",
    "        fn = \"data/\" + REVIEWS+ \"_\" + category + \"_\"+\"5\" + \".json\"\n",
    "        print(\"Reading category\", category)\n",
    "        with open(fn) as f:\n",
    "            for line in f:\n",
    "                d = json.loads(line)\n",
    "                pf, tf = d[\"helpful\"]\n",
    "                if tf >0:\n",
    "                    score = (1.0 * pf) / (1.0 * tf)\n",
    "                    row = [d[\"reviewerID\"], \n",
    "                           d[\"asin\"], \n",
    "                           d[\"summary\"],\n",
    "                           d[\"reviewText\"],\n",
    "                           d[\"overall\"],\n",
    "                           category_map[category],\n",
    "                           int(score),\n",
    "                           int(score >= 0.80),\n",
    "                           int(score <= 0.20)]\n",
    "                    data.append(row)\n",
    "                    \n",
    "    return pd.DataFrame(data, columns=col_names)\n",
    "\n",
    "\n",
    "#df = df.sample(frac=1).reset_index(drop=True) # Randomize entry order\n"
   ]
  },
  {
   "cell_type": "raw",
   "metadata": {},
   "source": []
  },
  {
   "cell_type": "markdown",
   "metadata": {},
   "source": []
  },
  {
   "cell_type": "code",
   "execution_count": 59,
   "metadata": {},
   "outputs": [
    {
     "name": "stdout",
     "output_type": "stream",
     "text": [
      "Creating dataframe... Video_Games\n",
      "Reading category Amazon_Instant_Video\n",
      "Reading category Apps_for_Android\n",
      "Reading category Automotive\n",
      "Reading category Baby\n",
      "Reading category Beauty\n",
      "Reading category Books\n",
      "Reading category CDs_and_Vinyl\n",
      "Reading category Cell_Phones_and_Accessories\n",
      "Reading category Clothing_Shoes_and_Jewelry\n",
      "Reading category Digital_Music\n",
      "Reading category Electronics\n",
      "Reading category Grocery_and_Gourmet_Food\n",
      "Reading category Health_and_Personal_Care\n",
      "Reading category Home_and_Kitchen\n",
      "Reading category Kindle_Store\n",
      "Reading category Movies_and_TV\n",
      "Reading category Musical_Instruments\n",
      "Reading category Office_Products\n",
      "Reading category Patio_Lawn_and_Garden\n",
      "Reading category Pet_Supplies\n",
      "Reading category Sports_and_Outdoors\n",
      "Reading category Tools_and_Home_Improvement\n",
      "Reading category Toys_and_Games\n",
      "Reading category Video_Games\n"
     ]
    },
    {
     "data": {
      "text/html": [
       "<div>\n",
       "<style>\n",
       "    .dataframe thead tr:only-child th {\n",
       "        text-align: right;\n",
       "    }\n",
       "\n",
       "    .dataframe thead th {\n",
       "        text-align: left;\n",
       "    }\n",
       "\n",
       "    .dataframe tbody tr th {\n",
       "        vertical-align: top;\n",
       "    }\n",
       "</style>\n",
       "<table border=\"1\" class=\"dataframe\">\n",
       "  <thead>\n",
       "    <tr style=\"text-align: right;\">\n",
       "      <th></th>\n",
       "      <th>reviewer_id</th>\n",
       "      <th>asin</th>\n",
       "      <th>summary</th>\n",
       "      <th>review_text</th>\n",
       "      <th>overall</th>\n",
       "      <th>category</th>\n",
       "      <th>score</th>\n",
       "      <th>good</th>\n",
       "      <th>bad</th>\n",
       "    </tr>\n",
       "  </thead>\n",
       "  <tbody>\n",
       "    <tr>\n",
       "      <th>0</th>\n",
       "      <td>A60D5HQFOTSOM</td>\n",
       "      <td>B000H00VBQ</td>\n",
       "      <td>Way too boring for me</td>\n",
       "      <td>This one is a real snoozer. Don't believe anyt...</td>\n",
       "      <td>1.0</td>\n",
       "      <td>0</td>\n",
       "      <td>0</td>\n",
       "      <td>0</td>\n",
       "      <td>1</td>\n",
       "    </tr>\n",
       "    <tr>\n",
       "      <th>1</th>\n",
       "      <td>A16XRPF40679KG</td>\n",
       "      <td>B000H00VBQ</td>\n",
       "      <td>Robson green and great writing</td>\n",
       "      <td>This show always is excellent, as far as briti...</td>\n",
       "      <td>5.0</td>\n",
       "      <td>0</td>\n",
       "      <td>1</td>\n",
       "      <td>1</td>\n",
       "      <td>0</td>\n",
       "    </tr>\n",
       "    <tr>\n",
       "      <th>2</th>\n",
       "      <td>A1POFVVXUZR3IQ</td>\n",
       "      <td>B000H00VBQ</td>\n",
       "      <td>I purchased the series via streaming and loved...</td>\n",
       "      <td>I discovered this series quite by accident. Ha...</td>\n",
       "      <td>5.0</td>\n",
       "      <td>0</td>\n",
       "      <td>1</td>\n",
       "      <td>1</td>\n",
       "      <td>0</td>\n",
       "    </tr>\n",
       "    <tr>\n",
       "      <th>3</th>\n",
       "      <td>A2U61O0KWJH3MM</td>\n",
       "      <td>B000H29TXU</td>\n",
       "      <td>ok</td>\n",
       "      <td>comedy is a matter of taste. this guy was a li...</td>\n",
       "      <td>3.0</td>\n",
       "      <td>0</td>\n",
       "      <td>0</td>\n",
       "      <td>0</td>\n",
       "      <td>1</td>\n",
       "    </tr>\n",
       "    <tr>\n",
       "      <th>4</th>\n",
       "      <td>A3DG93E8TXMKZF</td>\n",
       "      <td>B000H4YNM0</td>\n",
       "      <td>an okay series, but I stopped watching after t...</td>\n",
       "      <td>This is a cute series, and I did watch two epi...</td>\n",
       "      <td>3.0</td>\n",
       "      <td>0</td>\n",
       "      <td>0</td>\n",
       "      <td>0</td>\n",
       "      <td>0</td>\n",
       "    </tr>\n",
       "  </tbody>\n",
       "</table>\n",
       "</div>"
      ],
      "text/plain": [
       "      reviewer_id        asin  \\\n",
       "0   A60D5HQFOTSOM  B000H00VBQ   \n",
       "1  A16XRPF40679KG  B000H00VBQ   \n",
       "2  A1POFVVXUZR3IQ  B000H00VBQ   \n",
       "3  A2U61O0KWJH3MM  B000H29TXU   \n",
       "4  A3DG93E8TXMKZF  B000H4YNM0   \n",
       "\n",
       "                                             summary  \\\n",
       "0                              Way too boring for me   \n",
       "1                     Robson green and great writing   \n",
       "2  I purchased the series via streaming and loved...   \n",
       "3                                                 ok   \n",
       "4  an okay series, but I stopped watching after t...   \n",
       "\n",
       "                                         review_text  overall  category  \\\n",
       "0  This one is a real snoozer. Don't believe anyt...      1.0         0   \n",
       "1  This show always is excellent, as far as briti...      5.0         0   \n",
       "2  I discovered this series quite by accident. Ha...      5.0         0   \n",
       "3  comedy is a matter of taste. this guy was a li...      3.0         0   \n",
       "4  This is a cute series, and I did watch two epi...      3.0         0   \n",
       "\n",
       "   score  good  bad  \n",
       "0      0     0    1  \n",
       "1      1     1    0  \n",
       "2      1     1    0  \n",
       "3      0     0    1  \n",
       "4      0     0    0  "
      ]
     },
     "execution_count": 59,
     "metadata": {},
     "output_type": "execute_result"
    }
   ],
   "source": [
    "#Aggregating the review data across all categories\n",
    "print('Creating dataframe...', category)\n",
    "df = read_dataset()\n",
    "df.head()"
   ]
  },
  {
   "cell_type": "code",
   "execution_count": 60,
   "metadata": {},
   "outputs": [
    {
     "data": {
      "text/plain": [
       "9401162"
      ]
     },
     "execution_count": 60,
     "metadata": {},
     "output_type": "execute_result"
    }
   ],
   "source": [
    "len(df)"
   ]
  },
  {
   "cell_type": "code",
   "execution_count": 61,
   "metadata": {
    "collapsed": true
   },
   "outputs": [],
   "source": [
    "store = pd.HDFStore('store.h5')"
   ]
  },
  {
   "cell_type": "code",
   "execution_count": 55,
   "metadata": {},
   "outputs": [
    {
     "data": {
      "text/plain": [
       "4756837"
      ]
     },
     "execution_count": 55,
     "metadata": {},
     "output_type": "execute_result"
    }
   ],
   "source": [
    "len(pf)"
   ]
  },
  {
   "cell_type": "code",
   "execution_count": null,
   "metadata": {
    "collapsed": true
   },
   "outputs": [],
   "source": [
    "store['df'] = df "
   ]
  },
  {
   "cell_type": "code",
   "execution_count": null,
   "metadata": {
    "collapsed": true
   },
   "outputs": [],
   "source": []
  }
 ],
 "metadata": {
  "kernelspec": {
   "display_name": "Python 3",
   "language": "python",
   "name": "python3"
  },
  "language_info": {
   "codemirror_mode": {
    "name": "ipython",
    "version": 3
   },
   "file_extension": ".py",
   "mimetype": "text/x-python",
   "name": "python",
   "nbconvert_exporter": "python",
   "pygments_lexer": "ipython3",
   "version": "3.6.2"
  }
 },
 "nbformat": 4,
 "nbformat_minor": 2
}
